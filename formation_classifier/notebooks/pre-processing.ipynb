{
 "cells": [
  {
   "cell_type": "code",
   "execution_count": null,
   "metadata": {},
   "outputs": [],
   "source": [
    "import numpy as np\n",
    "import pandas as pd\n",
    "import matplotlib.pyplot as plt"
   ]
  },
  {
   "cell_type": "code",
   "execution_count": 9,
   "metadata": {},
   "outputs": [
    {
     "name": "stdout",
     "output_type": "stream",
     "text": [
      "        timestamp  tag_id      x_pos      y_pos   heading  direction  \\\n",
      "0             0.0       2  26.572793  29.435691  0.799873   0.824138   \n",
      "1             0.0       5  35.550286  30.268062  1.157589  -0.174832   \n",
      "2             0.0       7  41.586068  38.675045  2.315807  -2.309638   \n",
      "3             0.0       8  28.506505  39.611611  0.975878   2.526083   \n",
      "4             0.0       9  32.253800  12.724300  0.238786   0.000000   \n",
      "...           ...     ...        ...        ...       ...        ...   \n",
      "623511     2833.0       9  28.875295   9.418390 -0.980497  -0.136579   \n",
      "623512     2833.0      10  36.042101   9.025376 -0.348861   0.188951   \n",
      "623514     2833.0      13  25.004687  26.885823  1.178887   2.565675   \n",
      "623515     2833.0      14  35.959117  17.466859  1.499948   2.121866   \n",
      "623516     2833.0      15  49.905929  27.317175 -2.147617  -2.927301   \n",
      "\n",
      "             energy     speed  total_distance  \n",
      "0        150.661796  0.967681      255.584300  \n",
      "1        364.308659  0.624163      297.861023  \n",
      "2        264.242738  0.389857      311.223626  \n",
      "3        304.044630  1.077370      250.273262  \n",
      "4        254.040000  0.000000      329.554000  \n",
      "...             ...       ...             ...  \n",
      "623511  6395.180561  1.409727     6046.001682  \n",
      "623512  9253.194861  1.351709     7177.076916  \n",
      "623514  7893.394854  1.742622     6317.626738  \n",
      "623515  8253.561756  0.134202     6692.610585  \n",
      "623516  6641.488700  0.781628     6448.697400  \n",
      "\n",
      "[550580 rows x 9 columns]\n"
     ]
    }
   ],
   "source": [
    "# read the dataset and set the index\n",
    "columns = ['timestamp', 'tag_id', 'x_pos', 'y_pos', 'heading', 'direction', 'energy', 'speed', 'total_distance']\n",
    "data = pd.read_csv('../data/input/raw/tromso_stromsgodset_first.csv', names=columns)\n",
    "\n",
    "# convert timestamp to second\n",
    "data['timestamp'] = pd.to_datetime(data['timestamp'])\n",
    "data['timestamp'] = data['timestamp'] - data['timestamp'][0]\n",
    "data['timestamp'] = [time.total_seconds() for time in data['timestamp']]\n",
    "\n",
    "# make the list of player id\n",
    "player_ids = data['tag_id'].unique()\n",
    "\n",
    "# remove the entries of the goalkeeper and substitute players\n",
    "x_means = [] # a list of x-position mean for each player\n",
    "y_means = [] # a list of y-position mean for each player\n",
    "for player_id in player_ids:\n",
    "    x_means.append(data['x_pos'][data['tag_id']==player_id].mean())\n",
    "    y_means.append(data['y_pos'][data['tag_id']==player_id].mean())\n",
    "\n",
    "# remove the id of goalkeeper\n",
    "player_ids = np.delete(player_ids, np.argsort(x_means)[0]) # a goalkeeper has the lowest x-position mean\n",
    "# remove the ids of a substitute player\n",
    "player_ids = np.delete(player_ids, np.argsort(y_means)[-3:]) # substitute players have the highest y-position mean\n",
    "data = data[data['tag_id'].isin(player_ids)]\n",
    "\n",
    "print(data)"
   ]
  },
  {
   "cell_type": "code",
   "execution_count": 10,
   "metadata": {},
   "outputs": [],
   "source": [
    "timestamp_quarter = [time for time in data['timestamp'].unique() if time % 0.25 == 0]\n",
    "x_quarter = []\n",
    "y_quarter = []\n",
    "\n",
    "timestamp_new = []\n",
    "x_new = []\n",
    "y_new = []\n",
    "\n",
    "for time in timestamp_quarter:\n",
    "    x_quarter = []\n",
    "    y_quarter = []\n",
    "    for tag_id in data['tag_id'].unique():\n",
    "        x_quarter.append(data['x_pos'][(data['tag_id']==tag_id) & (time<=data['timestamp']) & (data['timestamp']<time+0.25)].mean())\n",
    "        y_quarter.append(data['y_pos'][(data['tag_id']==tag_id) & (time<=data['timestamp']) & (data['timestamp']<time+0.25)].mean())\n",
    "    if (np.nan not in x_quarter) and (np.nan not in y_quarter):\n",
    "        timestamp_new.append(time)\n",
    "        x_new.append(x_quarter)\n",
    "        y_new.append(y_quarter)"
   ]
  },
  {
   "cell_type": "code",
   "execution_count": null,
   "metadata": {},
   "outputs": [],
   "source": [
    "new_data = pd.DataFrame({'timestamp' : sorted(timestamp_new*10), \n",
    "              'tag_id' : [i for i in data['tag_id'].unique()] * len(timestamp_new),\n",
    "              'x_pos' : [x_pos for sublist in x_new for x_pos in sublist],\n",
    "              'y_pos' : [y_pos for sublist in y_new for y_pos in sublist]})"
   ]
  },
  {
   "cell_type": "code",
   "execution_count": null,
   "metadata": {},
   "outputs": [],
   "source": [
    "new_data.head()"
   ]
  },
  {
   "cell_type": "code",
   "execution_count": null,
   "metadata": {},
   "outputs": [],
   "source": [
    "new_data.to_csv('../data/input/processed/prepped_tromso_stromsgodset_first.csv', index=False)"
   ]
  },
  {
   "cell_type": "code",
   "execution_count": null,
   "metadata": {},
   "outputs": [],
   "source": []
  }
 ],
 "metadata": {
  "kernelspec": {
   "display_name": "Python 3 (ipykernel)",
   "language": "python",
   "name": "python3"
  },
  "language_info": {
   "codemirror_mode": {
    "name": "ipython",
    "version": 3
   },
   "file_extension": ".py",
   "mimetype": "text/x-python",
   "name": "python",
   "nbconvert_exporter": "python",
   "pygments_lexer": "ipython3",
   "version": "3.10.9"
  }
 },
 "nbformat": 4,
 "nbformat_minor": 2
}
